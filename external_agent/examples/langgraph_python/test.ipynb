{
 "cells": [
  {
   "cell_type": "code",
   "execution_count": 10,
   "metadata": {},
   "outputs": [],
   "source": [
    "import time\n",
    "import json\n",
    "import uuid\n",
    "import traceback\n",
    "import logging\n",
    "from typing import List, Dict, Any, Optional\n",
    "#from langchain_openai import ChatOpenAI\n",
    "from langchain_core.messages import HumanMessage, AIMessage, ToolMessage, SystemMessage, BaseMessage\n",
    "from langgraph.prebuilt import create_react_agent\n",
    "from ibm_watsonx_ai import APIClient, Credentials\n",
    "from langchain_ibm import ChatWatsonx\n",
    "from models import Message, AIToolCall, Function, ChatCompletionResponse, Choice, MessageResponse\n",
    "from config import OPENAI_API_KEY, WATSONX_SPACE_ID, WATSONX_API_KEY, WATSONX_URL\n",
    "from token_utils import get_access_token\n",
    "import os\n",
    "from dotenv import load_dotenv"
   ]
  },
  {
   "cell_type": "code",
   "execution_count": 11,
   "metadata": {},
   "outputs": [],
   "source": [
    "load_dotenv()\n",
    "WATSONX_SPACE_ID = os.getenv('WATSONX_SPACE_ID', None)\n",
    "WATSONX_API_KEY = os.getenv('WATSONX_API_KEY', None)\n",
    "WATSONX_URL = os.getenv('WATSONX_URL','https://us-south.ml.cloud.ibm.com')\n",
    "OPENAI_API_KEY = os.getenv('OPENAI_API_KEY', None)"
   ]
  },
  {
   "cell_type": "code",
   "execution_count": 12,
   "metadata": {},
   "outputs": [
    {
     "name": "stdout",
     "output_type": "stream",
     "text": [
      "tyvyJvMyMPDMwrQr37I5QWzxv-8GtxOQRAN_MZ6wwHny\n"
     ]
    }
   ],
   "source": [
    "api_key = \"azE6dXNyX2ZjZmZiOWIyLTA4OTctMzgxMS1hNjliLTg4YTFhMGMyMzQ3MzpmYkdWVDREWXl6OXE2NDIxT2ZpZldtOUtzNzdLT2ViSHpIRUEySWpaNVJ3PTo2akhZ\""
   ]
  },
  {
   "cell_type": "code",
   "execution_count": 17,
   "metadata": {},
   "outputs": [
    {
     "name": "stdout",
     "output_type": "stream",
     "text": [
      "{\"token\":\"eyJraWQiOiI4T3dtbDBGWEgwckkzSy1IdGNKaFBOS1FoUlBNYmVLTVRHXzdHQkZPX1RnIiwiYWxnIjoiUlMyNTYifQ.eyJpc3MiOiJodHRwczovL3NpdXNlcm1ndG1zLW1zcC11c2VyLW1hbmFnZXIuYXBwcy5hcC1kcC0wMDEua29oMy5wMS5vcGVuc2hpZnRhcHBzLmNvbS9zaXVzZXJtZ3IvYXBpLzEuMCIsImF1ZCI6ImNybjp2MTphd3M6cHVibGljOnd4bzp1cy1lYXN0LTE6c3ViLzIwMjQwNTI4LTA0NTItMjc1OS0zMDBhLWZmMDhiMWJjYTkxMToyMDI0MDYwMy0xNTA0LTI2MDQtMzAwMi01NDVkMzljZTlhODA6OiIsImV4cCI6MTczNjgxODIzOSwianRpIjoiSDJyVWs3c2c1dmNjaW1STDZ2T0dUZyIsImlhdCI6MTczNjgxMTAzOSwibmJmIjoxNzM2ODExMDA5LCJ0ZW5hbnRJZCI6IjIwMjQwNjAzLTE1MDQtMjYwNC0zMDAyLTU0NWQzOWNlOWE4MCIsInN1YnNjcmlwdGlvbklkIjoiMjAyNDA1MjgtMDQ1Mi0yNzU5LTMwMGEtZmYwOGIxYmNhOTExIiwic3ViIjoiZmNmZmI5YjItMDg5Ny0zODExLWE2OWItODhhMWEwYzIzNDczIiwiZW50aXR5VHlwZSI6IlVTRVIiLCJlbWFpbCI6ImFzaHdpbi5wb3RodWt1Y2hpQGlibS5jb20iLCJuYW1lIjoiYXNod2luLnBvdGh1a3VjaGlAaWJtLmNvbSIsImRpc3BsYXluYW1lIjoiQXNod2luLlBvdGh1a3VjaGlAaWJtLmNvbSIsImlkcCI6eyJyZWFsbU5hbWUiOiJjbG91ZElkZW50aXR5UmVhbG0iLCJpc3MiOiJodHRwczovL3dvLWlibS1wcm9kLnZlcmlmeS5pYm0uY29tL29pZGMvZW5kcG9pbnQvZGVmYXVsdCJ9LCJncm91cHMiOltdLCJyb2xlcyI6WyJBZG1pbiJdLCJpZHBVbmlxdWVJZCI6IjY0NjAwMDNFM1UifQ.ELUObbbnlPKuSZchAIDxJfswE9lGogUII2AzamKcE3yKvKU4VQmLRPN2SEM8F70PZ6jrJJSnTZZKLiEzLJpz8PhGJdiqVhjlpA2OfGpERbPALIdLfmDiBFPF9Bs79_2lN7OfuYBKJqoFuUEXbYqZFHCxB-K-NIHilf-AtYFrk6F7dvX9iH1OHWcHZ94MLNIW-dbHLw40qnXo4nwl6E7pKT25O64h0SmezRLqsn2qfyNBrCMFxTzGC90YB870DItt0hXLQ01N4Cz5SzSX5h2qeoroeaanIh97Z1UCLeUHFlEKI0TRARjlaZIOmo62Im5ufMArgL5JXwhg5NTMQvnVsA\",\"token_type\":\"jwt\",\"expires_in\":7200}\n"
     ]
    }
   ],
   "source": [
    "import http.client\n",
    "import json  # Add this import\n",
    "\n",
    "conn = http.client.HTTPSConnection(\"iam.platform.saas.ibm.com\")\n",
    "\n",
    "payload = {\n",
    "    \"apikey\": api_key\n",
    "}\n",
    "\n",
    "# Convert payload to JSON string\n",
    "json_payload = json.dumps(payload)\n",
    "\n",
    "headers = {\n",
    "    'content-type': \"application/json\",\n",
    "    'accept': \"application/json\"\n",
    "}\n",
    "\n",
    "conn.request(\"POST\", \"/siusermgr/api/1.0/apikeys/token\", json_payload, headers)\n",
    "\n",
    "res = conn.getresponse()\n",
    "data = res.read()\n",
    "\n",
    "print(data.decode(\"utf-8\"))"
   ]
  },
  {
   "cell_type": "code",
   "execution_count": 26,
   "metadata": {},
   "outputs": [
    {
     "name": "stdout",
     "output_type": "stream",
     "text": [
      "{'token': 'eyJraWQiOiI4T3dtbDBGWEgwckkzSy1IdGNKaFBOS1FoUlBNYmVLTVRHXzdHQkZPX1RnIiwiYWxnIjoiUlMyNTYifQ.eyJpc3MiOiJodHRwczovL3NpdXNlcm1ndG1zLW1zcC11c2VyLW1hbmFnZXIuYXBwcy5hcC1kcC0wMDEua29oMy5wMS5vcGVuc2hpZnRhcHBzLmNvbS9zaXVzZXJtZ3IvYXBpLzEuMCIsImF1ZCI6ImNybjp2MTphd3M6cHVibGljOnd4bzp1cy1lYXN0LTE6c3ViLzIwMjQwNTI4LTA0NTItMjc1OS0zMDBhLWZmMDhiMWJjYTkxMToyMDI0MDYwMy0xNTA0LTI2MDQtMzAwMi01NDVkMzljZTlhODA6OiIsImV4cCI6MTczNjgxODIzOSwianRpIjoiSDJyVWs3c2c1dmNjaW1STDZ2T0dUZyIsImlhdCI6MTczNjgxMTAzOSwibmJmIjoxNzM2ODExMDA5LCJ0ZW5hbnRJZCI6IjIwMjQwNjAzLTE1MDQtMjYwNC0zMDAyLTU0NWQzOWNlOWE4MCIsInN1YnNjcmlwdGlvbklkIjoiMjAyNDA1MjgtMDQ1Mi0yNzU5LTMwMGEtZmYwOGIxYmNhOTExIiwic3ViIjoiZmNmZmI5YjItMDg5Ny0zODExLWE2OWItODhhMWEwYzIzNDczIiwiZW50aXR5VHlwZSI6IlVTRVIiLCJlbWFpbCI6ImFzaHdpbi5wb3RodWt1Y2hpQGlibS5jb20iLCJuYW1lIjoiYXNod2luLnBvdGh1a3VjaGlAaWJtLmNvbSIsImRpc3BsYXluYW1lIjoiQXNod2luLlBvdGh1a3VjaGlAaWJtLmNvbSIsImlkcCI6eyJyZWFsbU5hbWUiOiJjbG91ZElkZW50aXR5UmVhbG0iLCJpc3MiOiJodHRwczovL3dvLWlibS1wcm9kLnZlcmlmeS5pYm0uY29tL29pZGMvZW5kcG9pbnQvZGVmYXVsdCJ9LCJncm91cHMiOltdLCJyb2xlcyI6WyJBZG1pbiJdLCJpZHBVbmlxdWVJZCI6IjY0NjAwMDNFM1UifQ.ELUObbbnlPKuSZchAIDxJfswE9lGogUII2AzamKcE3yKvKU4VQmLRPN2SEM8F70PZ6jrJJSnTZZKLiEzLJpz8PhGJdiqVhjlpA2OfGpERbPALIdLfmDiBFPF9Bs79_2lN7OfuYBKJqoFuUEXbYqZFHCxB-K-NIHilf-AtYFrk6F7dvX9iH1OHWcHZ94MLNIW-dbHLw40qnXo4nwl6E7pKT25O64h0SmezRLqsn2qfyNBrCMFxTzGC90YB870DItt0hXLQ01N4Cz5SzSX5h2qeoroeaanIh97Z1UCLeUHFlEKI0TRARjlaZIOmo62Im5ufMArgL5JXwhg5NTMQvnVsA', 'token_type': 'jwt', 'expires_in': 7200}\n"
     ]
    }
   ],
   "source": [
    "# Convert JSON response to dictionary\n",
    "response_dict = json.loads(data.decode(\"utf-8\"))\n",
    "\n",
    "# Now response_dict is a Python dictionary\n",
    "print(response_dict)  # You can access it like a normal dictionary\n",
    "\n",
    "token = response_dict[\"token\"]\n"
   ]
  },
  {
   "cell_type": "code",
   "execution_count": 29,
   "metadata": {},
   "outputs": [
    {
     "name": "stdout",
     "output_type": "stream",
     "text": [
      "[{'id': '3ef94da2-0f26-449a-834a-c710ad1211e4', 'tenant_id': '20240528-0452-2759-300a-ff08b1bca911_20240603-1504-2604-3002-545d39ce9a80', 'tenant_name': 'Default WxO Tenant', 'title': 'News Today v2', 'description': 'Agent to retieve current news', 'created_on': '2025-01-13T23:17:38.986273Z', 'created_by': '6460003E3U', 'created_by_username': 'Ashwin.Pothukuchi@ibm.com', 'updated_at': '2025-01-13T23:17:38.986273Z', 'tags': None, 'name': 'News Today v2', 'type': 'external', 'nickname': 'News Today v2', 'hidden': False, 'api_url': 'https://application-6a.1qn1q8csg8r5.us-east.codeengine.appdomain.cloud/chat/completions', 'auth_scheme': 'API_KEY', 'instructions': None, 'auth_config': {}, 'chat_params': {}}, {'id': 'f3d4fa1d-1b6c-4136-b962-f41ade870a84', 'tenant_id': '20240528-0452-2759-300a-ff08b1bca911_20240603-1504-2604-3002-545d39ce9a80', 'tenant_name': 'Default WxO Tenant', 'title': 'News Today', 'description': 'Agent to retieve current news', 'created_on': '2025-01-13T18:24:47.150584Z', 'created_by': '6460003E3U', 'created_by_username': 'Ashwin.Pothukuchi@ibm.com', 'updated_at': '2025-01-13T18:24:47.150584Z', 'tags': None, 'name': 'News Today', 'type': 'external', 'nickname': 'News Today', 'hidden': False, 'api_url': 'https://application-e1.1hx59rw4utbw.us-east.codeengine.appdomain.cloud/chat/completions', 'auth_scheme': 'API_KEY', 'instructions': None, 'auth_config': {}, 'chat_params': {}}]\n"
     ]
    }
   ],
   "source": [
    "import http.client\n",
    "import json\n",
    "\n",
    "# Setup the connection - using the provided endpoint\n",
    "conn = http.client.HTTPSConnection(\"api.dl.watson-orchestrate.ibm.com\")\n",
    "\n",
    "# Headers including authentication\n",
    "headers = {\n",
    "    'accept': \"application/json\",\n",
    "    'Authorization': f'Bearer {token}'  # Replace with your actual token\n",
    "}\n",
    "\n",
    "# Make the GET request with the specific instance path\n",
    "endpoint_path = \"/instances/20240603-1504-2604-3002-545d39ce9a80/v1/orchestrate/agents/external-chat\"\n",
    "conn.request(\"GET\", endpoint_path, headers=headers)\n",
    "\n",
    "# Get the response\n",
    "res = conn.getresponse()\n",
    "data = res.read()\n",
    "\n",
    "# Convert response to dictionary\n",
    "response_dict = json.loads(data.decode(\"utf-8\"))\n",
    "\n",
    "# Print the results\n",
    "print(response_dict)\n",
    "\n",
    "# Close the connection\n",
    "conn.close()"
   ]
  },
  {
   "cell_type": "code",
   "execution_count": null,
   "metadata": {},
   "outputs": [],
   "source": [
    "# Setup the connection\n",
    "conn = http.client.HTTPSConnection(\"api.dl.watson-orchestrate.ibm.com\")\n",
    "\n",
    "headers = {\n",
    "    'accept': \"application/json\",\n",
    "    'Authorization': f'Bearer {token}'\n",
    "}\n",
    "\n",
    "# Construct the endpoint path with the specific agent ID\n",
    "endpoint_path = f\"/instances/20240603-1504-2604-3002-545d39ce9a80/v1/orchestrate/agents/external-chat/f3d4fa1d-1b6c-4136-b962-f41ade870a84\"\n",
    "\n",
    "# Make the DELETE request\n",
    "conn.request(\"DELETE\", endpoint_path, headers=headers)\n",
    "\n",
    "# Get the response\n",
    "res = conn.getresponse()\n",
    "data = res.read()\n",
    "\n",
    "# Close the connection\n",
    "conn.close()\n"
   ]
  }
 ],
 "metadata": {
  "kernelspec": {
   "display_name": ".venv",
   "language": "python",
   "name": "python3"
  },
  "language_info": {
   "codemirror_mode": {
    "name": "ipython",
    "version": 3
   },
   "file_extension": ".py",
   "mimetype": "text/x-python",
   "name": "python",
   "nbconvert_exporter": "python",
   "pygments_lexer": "ipython3",
   "version": "3.11.1"
  }
 },
 "nbformat": 4,
 "nbformat_minor": 2
}
